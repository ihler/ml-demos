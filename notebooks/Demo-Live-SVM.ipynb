{
 "cells": [
  {
   "cell_type": "markdown",
   "metadata": {},
   "source": [
    "# Demo - Support Vector Machines"
   ]
  },
  {
   "cell_type": "code",
   "execution_count": 1,
   "metadata": {},
   "outputs": [],
   "source": [
    "import sys\n",
    "sys.path.append('/home/ihler/Dropbox/Code/')\n",
    "import numpy as np\n",
    "import matplotlib\n",
    "import matplotlib.pyplot as plt\n",
    "plt.set_cmap('jet');\n",
    "%matplotlib inline\n",
    "\n",
    "import mltools as ml\n",
    "import mltools.jupyter\n",
    "import mltools.datagen\n",
    "\n",
    "import ipywidgets as widgets       # use for interactive plots with \"inline\" plotting\n",
    "from ipyevents import Event \n",
    "from IPython.display import display"
   ]
  },
  {
   "cell_type": "markdown",
   "metadata": {},
   "source": [
    "#### Interactive demo\n",
    "* Click to place initial parameters\n",
    "* Change kernel parameters (Gaussian bandwidth, polynomial degree)\n",
    "* Change optimization parameters (max iterations, soft margin slack penalty R)"
   ]
  },
  {
   "cell_type": "code",
   "execution_count": 2,
   "metadata": {},
   "outputs": [
    {
     "data": {
      "text/plain": [
       "<Figure size 432x432 with 0 Axes>"
      ]
     },
     "metadata": {},
     "output_type": "display_data"
    },
    {
     "name": "stdout",
     "output_type": "stream",
     "text": [
      "Left click to add points, right click to remove nearest point.\n",
      "Use <shift> to control class value when placing points.\n",
      "You must have at least two points and exactly two class values to plot the decision.\n"
     ]
    },
    {
     "data": {
      "application/vnd.jupyter.widget-view+json": {
       "model_id": "64ca2db6da474401881b43188af1155b",
       "version_major": 2,
       "version_minor": 0
      },
      "text/plain": [
       "HBox(children=(Image(value=b'\\x89PNG\\r\\n\\x1a\\n\\x00\\x00\\x00\\rIHDR\\x00\\x00\\x01\\xb0\\x00\\x00\\x01\\xb0\\x08\\x06\\x00\\x…"
      ]
     },
     "metadata": {},
     "output_type": "display_data"
    }
   ],
   "source": [
    "import mltools.kernel as kernel\n",
    "\n",
    "class Struct(): pass\n",
    "opts = Struct(); opts.T = 10; opts.ktype='Gaussian'; opts.P=3; opts.sig=.5; opts.R = 100.\n",
    "\n",
    "svmG = kernel.kernelClassify2(); svmG.kernel = lambda a,b: kernel.gaussian(a,b,opts.sig)\n",
    "\n",
    "T = widgets.IntSlider(opts.T,description='T');\n",
    "sig = widgets.FloatLogSlider(value=.5, min=-3,max=1,step=.01, description='alpha')\n",
    "ktype = widgets.Dropdown(options=['Linear', 'Poly', 'Gaussian'],value='Gaussian',description='Kernel type:')\n",
    "P = widgets.IntSlider(opts.P,min=1,max=9,description='Degree');\n",
    "R = widgets.FloatLogSlider(value=opts.R, min=-3,max=3,step=.01, description='R')\n",
    "\n",
    "def myPlot(X,Y):\n",
    "    if (len(Y)>1 and np.var(Y)>0):\n",
    "        svmG.train(X,Y, opts.R, maxIter=opts.T)\n",
    "        ml.plotClassify2D(svmG,X,Y)\n",
    "    elif len(X>0):\n",
    "        ml.plotClassify2D(None,X,Y)\n",
    "        \n",
    "data = ml.datagen.MouseDataWidget(plot=myPlot)\n",
    "\n",
    "def set_opts(T,ktype,sig,P,R):\n",
    "    opts.T = T; opts.R = R; opts.sig = sig; \n",
    "    if ktype=='Gaussian': svmG.kernel = lambda a,b: kernel.gaussian(a,b,opts.sig)\n",
    "    elif ktype=='Linear': svmG.kernel = lambda a,b: kernel.linear(a,b)\n",
    "    elif ktype=='Poly':   svmG.kernel = lambda a,b: kernel.poly(a,b,P)\n",
    "    data.update_plot()\n",
    "     \n",
    "_ = widgets.interactive_output(set_opts, {'T': T, 'ktype': ktype, 'sig': sig, 'P':P, 'R':R})\n",
    "controls = widgets.VBox([widgets.Label(\"Kernel:\"),ktype,P,sig,\n",
    "                         widgets.Label(\"Training:\"),T,R]) \n",
    "\n",
    "hbox = widgets.HBox([data.image,controls])\n",
    "print(\"Left click to add points, right click to remove nearest point.\")\n",
    "print(\"Use <shift> to control class value when placing points.\")\n",
    "print(\"You must have at least two points and exactly two class values to plot the decision.\")\n",
    "display(hbox)"
   ]
  },
  {
   "cell_type": "code",
   "execution_count": null,
   "metadata": {},
   "outputs": [],
   "source": []
  }
 ],
 "metadata": {
  "kernelspec": {
   "display_name": "Python 3",
   "language": "python",
   "name": "python3"
  },
  "language_info": {
   "codemirror_mode": {
    "name": "ipython",
    "version": 3
   },
   "file_extension": ".py",
   "mimetype": "text/x-python",
   "name": "python",
   "nbconvert_exporter": "python",
   "pygments_lexer": "ipython3",
   "version": "3.7.5"
  }
 },
 "nbformat": 4,
 "nbformat_minor": 2
}
