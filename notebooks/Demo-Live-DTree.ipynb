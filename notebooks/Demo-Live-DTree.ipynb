{
 "cells": [
  {
   "cell_type": "markdown",
   "metadata": {},
   "source": [
    "# Demo - Decision Trees"
   ]
  },
  {
   "cell_type": "code",
   "execution_count": 1,
   "metadata": {},
   "outputs": [],
   "source": [
    "import sys\n",
    "sys.path.append('/home/ihler/Dropbox/Code/')\n",
    "import numpy as np\n",
    "import matplotlib\n",
    "import matplotlib.pyplot as plt\n",
    "plt.set_cmap('jet');\n",
    "%matplotlib inline\n",
    "\n",
    "import mltools as ml\n",
    "import mltools.jupyter\n",
    "import mltools.datagen\n",
    "\n",
    "import ipywidgets as widgets       # use for interactive plots with \"inline\" plotting\n",
    "from ipyevents import Event \n",
    "from IPython.display import display"
   ]
  },
  {
   "cell_type": "markdown",
   "metadata": {},
   "source": [
    "## Decision Tree\n",
    "#### Interactive demo\n",
    "* 2D features; discrete class (color)"
   ]
  },
  {
   "cell_type": "code",
   "execution_count": 3,
   "metadata": {},
   "outputs": [
    {
     "data": {
      "text/plain": [
       "<Figure size 432x432 with 0 Axes>"
      ]
     },
     "metadata": {},
     "output_type": "display_data"
    },
    {
     "name": "stdout",
     "output_type": "stream",
     "text": [
      "Left click to add points, right click to remove nearest point.\n",
      "Use <shift>/<alt>/<ctrl> combinations to control class value when placing points.\n"
     ]
    },
    {
     "data": {
      "application/vnd.jupyter.widget-view+json": {
       "model_id": "f797980eb29944c99bde25800c4219c1",
       "version_major": 2,
       "version_minor": 0
      },
      "text/plain": [
       "HBox(children=(Image(value=b'\\x89PNG\\r\\n\\x1a\\n\\x00\\x00\\x00\\rIHDR\\x00\\x00\\x01\\xb0\\x00\\x00\\x01\\xb0\\x08\\x06\\x00\\x…"
      ]
     },
     "metadata": {},
     "output_type": "display_data"
    }
   ],
   "source": [
    "import mltools.utils\n",
    "class Struct(): pass\n",
    "opts = Struct(); opts.maxdepth=10; opts.minleaf=1; \n",
    "opts.bootstrap=False; opts.seed=1; \n",
    "opts.nfeat = 2;\n",
    "\n",
    "learner = ml.dtree.treeClassify(); learner.classes = np.array([0,1]);\n",
    "\n",
    "maxdepth = widgets.IntSlider(opts.maxdepth,min=1,max=10,description='max depth');\n",
    "minleaf  = widgets.IntSlider(opts.minleaf,min=1,max=10,description='min leaf');\n",
    "bootstrap= widgets.Checkbox(opts.bootstrap,description='Bootstrap?')\n",
    "seed     = widgets.IntSlider(opts.seed,min=1,max=10,description='random seed');\n",
    "nfeat    = widgets.IntSlider(opts.nfeat,min=1,max=2,description='nfeatures');\n",
    "\n",
    "def myPlot(X,Y):\n",
    "    if len(X)>0:\n",
    "        np.random.seed(opts.seed)\n",
    "        if (opts.bootstrap): Xb,Yb = ml.utils.bootstrapData(X,Y)\n",
    "        else: Xb,Yb = X,Y\n",
    "        learner.train(Xb,Yb, maxDepth=opts.maxdepth, minLeaf=opts.minleaf, nFeatures=opts.nfeat)\n",
    "        ml.plotClassify2D(learner,X,Y)\n",
    "        if (opts.bootstrap): plt.plot(Xb[:,0],Xb[:,1],'go',ms=12,markerfacecolor='None')\n",
    "        \n",
    "data = ml.datagen.MouseDataWidget(plot=myPlot)\n",
    "\n",
    "def set_opts(maxdepth,minleaf,bootstrap,seed,nfeat):\n",
    "    opts.maxdepth=maxdepth; opts.minleaf=minleaf;\n",
    "    opts.bootstrap=bootstrap; opts.seed=seed; opts.nfeat=nfeat;\n",
    "    data.update_plot()\n",
    "     \n",
    "_ = widgets.interactive_output(set_opts, {'maxdepth':maxdepth, 'minleaf':minleaf,'bootstrap':bootstrap,'seed':seed,'nfeat':nfeat})\n",
    "controls = widgets.VBox([widgets.Label(\"Complexity control:\"),maxdepth,minleaf,\n",
    "                         widgets.Label(\"Randomization:\"),bootstrap,seed,nfeat])\n",
    "\n",
    "hbox = widgets.HBox([data.image,controls])\n",
    "print(\"Left click to add points, right click to remove nearest point.\")\n",
    "print(\"Use <shift>/<alt>/<ctrl> combinations to control class value when placing points.\")\n",
    "display(hbox)"
   ]
  },
  {
   "cell_type": "code",
   "execution_count": null,
   "metadata": {},
   "outputs": [],
   "source": []
  }
 ],
 "metadata": {
  "kernelspec": {
   "display_name": "Python 3",
   "language": "python",
   "name": "python3"
  },
  "language_info": {
   "codemirror_mode": {
    "name": "ipython",
    "version": 3
   },
   "file_extension": ".py",
   "mimetype": "text/x-python",
   "name": "python",
   "nbconvert_exporter": "python",
   "pygments_lexer": "ipython3",
   "version": "3.8.5"
  }
 },
 "nbformat": 4,
 "nbformat_minor": 2
}
