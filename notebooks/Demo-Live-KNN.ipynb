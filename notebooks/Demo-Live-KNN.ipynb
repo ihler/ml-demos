{
 "cells": [
  {
   "cell_type": "markdown",
   "metadata": {},
   "source": [
    "# Demo - Nearest Neighbors\n",
    "### Use the <a href='https://mybinder.org/v2/gh/ihler/ml-demos/HEAD?filepath=notebooks%2FDemo-Live-KNN.ipynb'>Live Binder demo</a>"
   ]
  },
  {
   "cell_type": "code",
   "execution_count": 1,
   "metadata": {},
   "outputs": [],
   "source": [
    "import sys\n",
    "sys.path.append('..')\n",
    "import numpy as np\n",
    "import matplotlib\n",
    "import matplotlib.pyplot as plt\n",
    "plt.set_cmap('jet');\n",
    "%matplotlib inline\n",
    "\n",
    "import mltools as ml\n",
    "import mltools.datagen\n",
    "\n",
    "import ipywidgets as widgets       # use for interactive plots with \"inline\" plotting\n",
    "from ipyevents import Event \n",
    "from IPython.display import display\n",
    "import time\n",
    "\n",
    "debug_view = widgets.Output(layout={'border': '1px solid black'})\n",
    "class Struct(): pass"
   ]
  },
  {
   "cell_type": "markdown",
   "metadata": {},
   "source": [
    "## KNN Classifier\n",
    "#### Interactive demo\n",
    "* 2D features; discrete class (color)\n",
    "* Click to place initial parameters\n",
    "* Change kernel parameters (Gaussian bandwidth, polynomial degree)\n",
    "* Change optimization parameters (max iterations, soft margin slack penalty R)"
   ]
  },
  {
   "cell_type": "code",
   "execution_count": 10,
   "metadata": {},
   "outputs": [
    {
     "data": {
      "text/plain": [
       "<Figure size 432x432 with 0 Axes>"
      ]
     },
     "metadata": {},
     "output_type": "display_data"
    },
    {
     "data": {
      "application/vnd.jupyter.widget-view+json": {
       "model_id": "116b42bbf4694e18a3ba23de24419936",
       "version_major": 2,
       "version_minor": 0
      },
      "text/plain": [
       "GridspecLayout(children=(Image(value=b'\\x89PNG\\r\\n\\x1a\\n\\x00\\x00\\x00\\rIHDR\\x00\\x00\\x01\\xb0\\x00\\x00\\x01\\xb0\\x08…"
      ]
     },
     "metadata": {},
     "output_type": "display_data"
    }
   ],
   "source": [
    "optsC = Struct(); optsC.K = 1; optsC.alpha=.5; optsC.weighted = False; optsC.next_time = time.time()\n",
    "\n",
    "learner = ml.knn.knnClassify(); \n",
    "\n",
    "alpha = widgets.FloatLogSlider(value=optsC.alpha, min=-3,max=3,step=.1, description='alpha')\n",
    "K = widgets.IntSlider(optsC.K,min=1,max=9,description='K');\n",
    "weighted = widgets.Checkbox(optsC.weighted,description='Weighted? $$w^{(s)} \\propto \\exp(-\\\\alpha \\|x-x^{(s)}\\|^2)$$')\n",
    "\n",
    "#@debug_view.capture(clear_output=True)  # display \"debug_view\" later to check any errors\n",
    "def myPlotC(X,Y):\n",
    "    if len(X)>0: \n",
    "        alpha=0; \n",
    "        if optsC.weighted: alpha = optsC.alpha\n",
    "        learner.train(X,Y, K=optsC.K,alpha=alpha)\n",
    "        ml.plotClassify2D(learner,X,Y, nGrid=128)\n",
    "        \n",
    "dataC = ml.datagen.MouseDataWidget(plot=myPlotC)\n",
    "\n",
    "def set_optsC(alpha,K,weighted):\n",
    "    optsC.K = K; optsC.alpha = alpha; optsC.weighted=weighted;\n",
    "    dataC.update_plot()\n",
    "     \n",
    "instructions = \"\"\"\n",
    "&nbsp&nbsp Left click to add points, right click to remove nearest point.<br>\n",
    "&nbsp&nbsp Use shift/alt/ctrl combinations to control class value when placing points.\n",
    "\"\"\"\n",
    "_ = widgets.interactive_output(set_optsC, {'K': K, 'weighted':weighted, 'alpha': alpha})\n",
    "\n",
    "grid = widgets.GridspecLayout(6, 5)\n",
    "grid[:,0:2] = dataC.image\n",
    "grid[0,2:] = widgets.HTML(instructions)\n",
    "grid[1,2:] = widgets.Label(\"Set Options:\")\n",
    "grid[2,2:] = K\n",
    "grid[3,2:] = weighted\n",
    "grid[4,2:] = alpha\n",
    "display(grid)"
   ]
  },
  {
   "cell_type": "markdown",
   "metadata": {},
   "source": [
    "## KNN Regression\n",
    "* 1D features; real-valued target y"
   ]
  },
  {
   "cell_type": "code",
   "execution_count": 6,
   "metadata": {},
   "outputs": [
    {
     "data": {
      "text/plain": [
       "<Figure size 432x432 with 0 Axes>"
      ]
     },
     "metadata": {},
     "output_type": "display_data"
    },
    {
     "data": {
      "application/vnd.jupyter.widget-view+json": {
       "model_id": "db874a63eeb841c1ad30ced0439699d3",
       "version_major": 2,
       "version_minor": 0
      },
      "text/plain": [
       "GridspecLayout(children=(Image(value=b'\\x89PNG\\r\\n\\x1a\\n\\x00\\x00\\x00\\rIHDR\\x00\\x00\\x01\\xb0\\x00\\x00\\x01\\xb0\\x08…"
      ]
     },
     "metadata": {},
     "output_type": "display_data"
    }
   ],
   "source": [
    "optsR = Struct(); optsR.K = 1; optsR.alpha=.5; optsR.weighted = False;\n",
    "\n",
    "learnerR = ml.knn.knnRegress(); \n",
    "\n",
    "alpha = widgets.FloatLogSlider(value=optsR.alpha, min=-3,max=3,step=.1, description='alpha')\n",
    "K = widgets.IntSlider(optsR.K,min=1,max=9,description='K');\n",
    "weighted = widgets.Checkbox(optsR.weighted,description='Weighted? $$w^{(s)} \\propto \\exp(-\\\\alpha \\|x-x^{(s)}\\|^2)$$')\n",
    "\n",
    "def myPlot(X,Y):\n",
    "    if len(X)>0:\n",
    "        alpha=0; \n",
    "        if optsR.weighted: alpha = optsR.alpha\n",
    "        learnerR.train(X[:,0:1],X[:,1], K=optsR.K,alpha=alpha)\n",
    "        plt.plot(X[:,0],X[:,1],'kx',ms=10,markeredgewidth=2);\n",
    "        lim = plt.axis(); xs=np.linspace(lim[0],lim[1],200)[:,np.newaxis]\n",
    "        plt.plot(xs,learnerR.predict(xs),'b-');\n",
    "        \n",
    "dataR = ml.datagen.MouseDataWidget(plot=myPlot)\n",
    "\n",
    "def set_optsR(alpha,K,weighted):\n",
    "    optsR.K = K; optsR.alpha = alpha; optsR.weighted=weighted;\n",
    "    dataR.update_plot()\n",
    "\n",
    "instructions = \"\"\"\n",
    "&nbsp&nbsp Left click to add points, right click to remove nearest point.\n",
    "\"\"\"\n",
    "_ = widgets.interactive_output(set_optsR, {'K': K, 'weighted':weighted, 'alpha': alpha})\n",
    "\n",
    "grid = widgets.GridspecLayout(6, 5)\n",
    "grid[:,0:2] = dataR.image\n",
    "grid[0,2:] = widgets.HTML(instructions)\n",
    "grid[1,2:] = widgets.Label(\"Set Options:\")\n",
    "grid[2,2:] = K\n",
    "grid[3,2:] = weighted\n",
    "grid[4,2:] = alpha\n",
    "display(grid)"
   ]
  },
  {
   "cell_type": "code",
   "execution_count": null,
   "metadata": {},
   "outputs": [],
   "source": []
  }
 ],
 "metadata": {
  "kernelspec": {
   "display_name": "Python 3",
   "language": "python",
   "name": "python3"
  }
 },
 "nbformat": 4,
 "nbformat_minor": 2
}
