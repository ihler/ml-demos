{
 "cells": [
  {
   "cell_type": "markdown",
   "metadata": {},
   "source": [
    "# Demo - Nearest Neighbors"
   ]
  },
  {
   "cell_type": "code",
   "execution_count": 1,
   "metadata": {},
   "outputs": [],
   "source": [
    "import sys\n",
    "sys.path.append('/home/ihler/Dropbox/Code/')\n",
    "import numpy as np\n",
    "import matplotlib\n",
    "import matplotlib.pyplot as plt\n",
    "plt.set_cmap('jet');\n",
    "%matplotlib inline\n",
    "\n",
    "import mltools as ml\n",
    "import mltools.jupyter\n",
    "import mltools.datagen\n",
    "\n",
    "import ipywidgets as widgets       # use for interactive plots with \"inline\" plotting\n",
    "from ipyevents import Event \n",
    "from IPython.display import display"
   ]
  },
  {
   "cell_type": "markdown",
   "metadata": {},
   "source": [
    "## KNN Classifier\n",
    "#### Interactive demo\n",
    "* 2D features; discrete class (color)\n",
    "* Click to place initial parameters\n",
    "* Change kernel parameters (Gaussian bandwidth, polynomial degree)\n",
    "* Change optimization parameters (max iterations, soft margin slack penalty R)"
   ]
  },
  {
   "cell_type": "code",
   "execution_count": 2,
   "metadata": {},
   "outputs": [
    {
     "data": {
      "text/plain": [
       "<Figure size 432x432 with 0 Axes>"
      ]
     },
     "metadata": {},
     "output_type": "display_data"
    },
    {
     "name": "stdout",
     "output_type": "stream",
     "text": [
      "Left click to add points, right click to remove nearest point.\n",
      "Use <shift>/<alt>/<ctrl> combinations to control class value when placing points.\n"
     ]
    },
    {
     "data": {
      "application/vnd.jupyter.widget-view+json": {
       "model_id": "1639713c1cbf42a5a69ff12e5ed414a0",
       "version_major": 2,
       "version_minor": 0
      },
      "text/plain": [
       "HBox(children=(Image(value=b'\\x89PNG\\r\\n\\x1a\\n\\x00\\x00\\x00\\rIHDR\\x00\\x00\\x01\\xb0\\x00\\x00\\x01\\xb0\\x08\\x06\\x00\\x…"
      ]
     },
     "metadata": {},
     "output_type": "display_data"
    }
   ],
   "source": [
    "class Struct(): pass\n",
    "opts = Struct(); opts.K = 1; opts.sig=.5; opts.weighted = False;\n",
    "\n",
    "learner = ml.knn.knnClassify(); \n",
    "\n",
    "sig = widgets.FloatLogSlider(value=opts.sig, min=-3,max=3,step=.1, description='alpha')\n",
    "K = widgets.IntSlider(opts.K,min=1,max=9,description='K');\n",
    "weighted = widgets.Checkbox(opts.weighted,description='Weighted?')\n",
    "\n",
    "def myPlot(X,Y):\n",
    "    if len(X)>0:\n",
    "        alpha=0; \n",
    "        if opts.weighted: alpha = opts.sig\n",
    "        learner.train(X,Y, K=opts.K,alpha=alpha)\n",
    "        ml.plotClassify2D(learner,X,Y)\n",
    "        \n",
    "data = ml.datagen.MouseDataWidget(plot=myPlot)\n",
    "\n",
    "def set_opts(sig,K,weighted):\n",
    "    opts.K = K; opts.sig = sig; opts.weighted=weighted;\n",
    "    data.update_plot()\n",
    "     \n",
    "_ = widgets.interactive_output(set_opts, {'K': K, 'weighted':weighted, 'sig': sig})\n",
    "controls = widgets.VBox([widgets.Label(\"Options:\"),K,weighted,sig])\n",
    "\n",
    "hbox = widgets.HBox([data.image,controls])\n",
    "print(\"Left click to add points, right click to remove nearest point.\")\n",
    "print(\"Use <shift>/<alt>/<ctrl> combinations to control class value when placing points.\")\n",
    "display(hbox)"
   ]
  },
  {
   "cell_type": "markdown",
   "metadata": {},
   "source": [
    "## KNN Regression\n",
    "* 1D features; real-valued target y"
   ]
  },
  {
   "cell_type": "code",
   "execution_count": 21,
   "metadata": {},
   "outputs": [
    {
     "data": {
      "text/plain": [
       "<Figure size 432x432 with 0 Axes>"
      ]
     },
     "metadata": {},
     "output_type": "display_data"
    },
    {
     "name": "stdout",
     "output_type": "stream",
     "text": [
      "Left click to add points, right click to remove nearest point.\n",
      "Use <shift>/<alt>/<ctrl> combinations to control class value when placing points.\n"
     ]
    },
    {
     "data": {
      "application/vnd.jupyter.widget-view+json": {
       "model_id": "68dd0a45035940e98d0c5a0dbf1740e9",
       "version_major": 2,
       "version_minor": 0
      },
      "text/plain": [
       "HBox(children=(Image(value=b'\\x89PNG\\r\\n\\x1a\\n\\x00\\x00\\x00\\rIHDR\\x00\\x00\\x01\\xb0\\x00\\x00\\x01\\xb0\\x08\\x06\\x00\\x…"
      ]
     },
     "metadata": {},
     "output_type": "display_data"
    }
   ],
   "source": [
    "class Struct(): pass\n",
    "opts = Struct(); opts.K = 1; opts.sig=.5; opts.weighted = False;\n",
    "\n",
    "learner = ml.knn.knnRegress(); \n",
    "\n",
    "sig = widgets.FloatLogSlider(value=opts.sig, min=-3,max=3,step=.1, description='alpha')\n",
    "K = widgets.IntSlider(opts.K,min=1,max=9,description='K');\n",
    "weighted = widgets.Checkbox(opts.weighted,description='Weighted?')\n",
    "\n",
    "def myPlot(X,Y):\n",
    "    if len(X)>0:\n",
    "        alpha=0; \n",
    "        if opts.weighted: alpha = opts.sig\n",
    "        learner.train(X[:,0:1],X[:,1], K=opts.K,alpha=alpha)\n",
    "        plt.plot(X[:,0],X[:,1],'kx',ms=10,markeredgewidth=2);\n",
    "        lim = plt.axis(); xs=np.linspace(lim[0],lim[1],200)[:,np.newaxis]\n",
    "        plt.plot(xs,learner.predict(xs),'b-');\n",
    "        \n",
    "data = ml.datagen.MouseDataWidget(plot=myPlot)\n",
    "\n",
    "def set_opts(sig,K,weighted):\n",
    "    opts.K = K; opts.sig = sig; opts.weighted=weighted;\n",
    "    data.update_plot()\n",
    "     \n",
    "_ = widgets.interactive_output(set_opts, {'K': K, 'weighted':weighted, 'sig': sig})\n",
    "controls = widgets.VBox([widgets.Label(\"Options:\"),K,weighted,sig])\n",
    "\n",
    "hbox = widgets.HBox([data.image,controls])\n",
    "print(\"Left click to add points, right click to remove nearest point.\")\n",
    "print(\"Use <shift>/<alt>/<ctrl> combinations to control class value when placing points.\")\n",
    "display(hbox)"
   ]
  },
  {
   "cell_type": "code",
   "execution_count": null,
   "metadata": {},
   "outputs": [],
   "source": []
  }
 ],
 "metadata": {
  "kernelspec": {
   "display_name": "Python 3",
   "language": "python",
   "name": "python3"
  },
  "language_info": {
   "codemirror_mode": {
    "name": "ipython",
    "version": 3
   },
   "file_extension": ".py",
   "mimetype": "text/x-python",
   "name": "python",
   "nbconvert_exporter": "python",
   "pygments_lexer": "ipython3",
   "version": "3.8.5"
  }
 },
 "nbformat": 4,
 "nbformat_minor": 2
}
