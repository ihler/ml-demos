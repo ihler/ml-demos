{
 "cells": [
  {
   "cell_type": "markdown",
   "metadata": {},
   "source": [
    "# Demo - Nearest Neighbors"
   ]
  },
  {
   "cell_type": "code",
   "execution_count": 1,
   "metadata": {},
   "outputs": [],
   "source": [
    "import numpy as np\n",
    "import sklearn.neighbors\n",
    "import matplotlib\n",
    "import matplotlib.pyplot as plt\n",
    "plt.set_cmap('jet');\n",
    "%matplotlib inline\n",
    "\n",
    "import live_demos as demo\n",
    "\n",
    "import ipywidgets as widgets       # use for interactive plots with \"inline\" plotting\n",
    "from ipyevents import Event \n",
    "from IPython.display import display"
   ]
  },
  {
   "cell_type": "markdown",
   "metadata": {},
   "source": [
    "## KNN Classifier\n",
    "#### Interactive demo\n",
    "* 2D features; discrete class (color)\n",
    "* Click to place initial parameters\n",
    "* Change kernel parameters (Gaussian bandwidth, polynomial degree)\n",
    "* Change optimization parameters (max iterations, soft margin slack penalty R)"
   ]
  },
  {
   "cell_type": "code",
   "execution_count": 3,
   "metadata": {},
   "outputs": [
    {
     "name": "stdout",
     "output_type": "stream",
     "text": [
      "Left click to add points, right click to remove nearest point.\n",
      "Use <shift>/<alt>/<ctrl> combinations to control class value when placing points.\n"
     ]
    },
    {
     "data": {
      "application/vnd.jupyter.widget-view+json": {
       "model_id": "1c2fd2e0d3d945ad82c20375eafbde1a",
       "version_major": 2,
       "version_minor": 0
      },
      "text/plain": [
       "HBox(children=(Image(value=b'\\x89PNG\\r\\n\\x1a\\n\\x00\\x00\\x00\\rIHDR\\x00\\x00\\x01\\xb0\\x00\\x00\\x01\\xb0\\x08\\x06\\x00\\x…"
      ]
     },
     "metadata": {},
     "output_type": "display_data"
    }
   ],
   "source": [
    "class Struct(): pass\n",
    "optsC = Struct(); optsC.K = 1; optsC.sig=.5; optsC.weighted = False;\n",
    "\n",
    "learnerC = sklearn.neighbors.KNeighborsClassifier()\n",
    "\n",
    "sig = widgets.FloatLogSlider(value=optsC.sig, min=-3,max=3,step=.1, description='alpha');\n",
    "K = widgets.IntSlider(optsC.K,min=1,max=9,description='K');\n",
    "weighted = widgets.Checkbox(optsC.weighted,description='Weighted?');\n",
    "msg = widgets.Label(\" \");\n",
    "\n",
    "def myPlotC(X,Y):\n",
    "    if len(X)>0:\n",
    "        wts = 'uniform' if not optsC.weighted else lambda d: np.exp(-d**2/optsC.sig)\n",
    "        learnerC.set_params(n_neighbors=min(len(X),optsC.K), weights=wts)\n",
    "        learnerC.fit(X,Y);\n",
    "        try: demo.plotClassify2D(learnerC,X,Y, nGrid=128, soft=False); msg.value=\" \";\n",
    "        except Exception as e: msg.value=str(e)\n",
    "        \n",
    "dataC = demo.MouseDataWidget(plot=myPlotC);\n",
    "\n",
    "def set_optsC(sig,K,weighted):\n",
    "    optsC.K = K; optsC.sig = sig; optsC.weighted=weighted;\n",
    "    dataC.update_plot();\n",
    "     \n",
    "_ = widgets.interactive_output(set_optsC, {'K': K, 'weighted':weighted, 'sig': sig});\n",
    "controls = widgets.VBox([widgets.Label(\"Options:\"),K,weighted,sig]);\n",
    "\n",
    "hbox = widgets.HBox([dataC.image,controls]);\n",
    "print(\"Left click to add points, right click to remove nearest point.\")\n",
    "print(\"Use <shift>/<alt>/<ctrl> combinations to control class value when placing points.\")\n",
    "_=display(hbox);"
   ]
  },
  {
   "cell_type": "markdown",
   "metadata": {},
   "source": [
    "## KNN Regression\n",
    "* 1D features; real-valued target y"
   ]
  },
  {
   "cell_type": "code",
   "execution_count": 5,
   "metadata": {},
   "outputs": [
    {
     "name": "stdout",
     "output_type": "stream",
     "text": [
      "Left click to add points, right click to remove nearest point.\n",
      "Use <shift>/<alt>/<ctrl> combinations to control class value when placing points.\n"
     ]
    },
    {
     "data": {
      "application/vnd.jupyter.widget-view+json": {
       "model_id": "21f99cfd898d4a40b4e43e6aaca9db15",
       "version_major": 2,
       "version_minor": 0
      },
      "text/plain": [
       "HBox(children=(Image(value=b'\\x89PNG\\r\\n\\x1a\\n\\x00\\x00\\x00\\rIHDR\\x00\\x00\\x01\\xb0\\x00\\x00\\x01\\xb0\\x08\\x06\\x00\\x…"
      ]
     },
     "metadata": {},
     "output_type": "display_data"
    }
   ],
   "source": [
    "class Struct(): pass\n",
    "optsR = Struct(); optsR.K = 1; optsR.sig=.5; optsR.weighted = False;\n",
    "\n",
    "learnerR = sklearn.neighbors.KNeighborsRegressor() # ml.knn.knnRegress(); \n",
    "\n",
    "sig = widgets.FloatLogSlider(value=optsR.sig, min=-3,max=3,step=.1, description='alpha')\n",
    "K = widgets.IntSlider(optsR.K,min=1,max=9,description='K');\n",
    "weighted = widgets.Checkbox(optsR.weighted,description='Weighted?')\n",
    "msg = widgets.Label(\" \")\n",
    "\n",
    "def myPlotR(X,Y):\n",
    "    if len(X)>0:\n",
    "        wts = 'uniform' if not optsR.weighted else lambda d: np.exp(-d**2/optsR.sig)\n",
    "        learnerR.fit(X[:,0:1],X[:,1]) \n",
    "        learnerR.set_params(n_neighbors=min(len(X),optsR.K), weights=wts)\n",
    "        plt.plot(X[:,0],X[:,1],'kx',ms=10,markeredgewidth=2);\n",
    "        lim = plt.axis(); xs=np.linspace(lim[0],lim[1],200)[:,np.newaxis]\n",
    "        try: plt.plot(xs,learnerR.predict(xs),'b-'); msg.value=\" \";\n",
    "        except Exception as e: msg.value=str(e)\n",
    "        \n",
    "dataR = demo.MouseDataWidget(plot=myPlotR)\n",
    "\n",
    "def set_optsR(sig,K,weighted):\n",
    "    optsR.K = K; optsR.sig = sig; optsR.weighted=weighted;\n",
    "    dataR.update_plot()\n",
    "     \n",
    "_ = widgets.interactive_output(set_optsR, {'K': K, 'weighted':weighted, 'sig': sig})\n",
    "controls = widgets.VBox([widgets.Label(\"Options:\"),K,weighted,sig, msg])\n",
    "\n",
    "hbox = widgets.HBox([dataR.image,controls]);\n",
    "print(\"Left click to add points, right click to remove nearest point.\")\n",
    "print(\"Use <shift>/<alt>/<ctrl> combinations to control class value when placing points.\")\n",
    "display(hbox)"
   ]
  },
  {
   "cell_type": "code",
   "execution_count": null,
   "metadata": {},
   "outputs": [],
   "source": []
  },
  {
   "cell_type": "code",
   "execution_count": null,
   "metadata": {},
   "outputs": [],
   "source": []
  }
 ],
 "metadata": {
  "kernelspec": {
   "display_name": "Python 3",
   "language": "python",
   "name": "python3"
  },
  "language_info": {
   "codemirror_mode": {
    "name": "ipython",
    "version": 3
   },
   "file_extension": ".py",
   "mimetype": "text/x-python",
   "name": "python",
   "nbconvert_exporter": "python",
   "pygments_lexer": "ipython3",
   "version": "3.8.5"
  }
 },
 "nbformat": 4,
 "nbformat_minor": 2
}
